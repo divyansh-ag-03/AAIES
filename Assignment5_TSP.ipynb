{
  "nbformat": 4,
  "nbformat_minor": 0,
  "metadata": {
    "colab": {
      "provenance": [],
      "include_colab_link": true
    },
    "kernelspec": {
      "name": "python3",
      "display_name": "Python 3"
    },
    "language_info": {
      "name": "python"
    }
  },
  "cells": [
    {
      "cell_type": "markdown",
      "metadata": {
        "id": "view-in-github",
        "colab_type": "text"
      },
      "source": [
        "<a href=\"https://colab.research.google.com/github/divyansh-ag-03/AAIES/blob/main/Assignment5_TSP.ipynb\" target=\"_parent\"><img src=\"https://colab.research.google.com/assets/colab-badge.svg\" alt=\"Open In Colab\"/></a>"
      ]
    },
    {
      "cell_type": "markdown",
      "source": [
        "<b>The Problem Statement</b>:\n",
        "\n",
        "Write a Python program to solve the Travelling Salesman problem using Branch and Bound approach.\n",
        "\n",
        "Imagine a salesman who needs to visit a set of cities and return to his starting point while minimizing the total distance traveled. Let's consider a small set of cities with their pairwise distances:\n",
        "\n",
        "City A to City B: 10 miles\n",
        "\n",
        "City A to City C: 15 miles\n",
        "\n",
        "City A to City D: 20 miles\n",
        "\n",
        "City B to City C: 35 miles\n",
        "\n",
        "City B to City D: 25 miles\n",
        "\n",
        "City C to City D: 30 miles\n",
        "\n",
        "The goal of the TSP is to find the shortest possible route that visits each city exactly once and returns to the starting city.\n",
        "\n",
        "\n",
        "\n",
        "\n",
        "\n"
      ],
      "metadata": {
        "id": "5r2msEl9py3R"
      }
    },
    {
      "cell_type": "markdown",
      "source": [
        "## The Code"
      ],
      "metadata": {
        "id": "hi0nFuvoppT9"
      }
    },
    {
      "cell_type": "markdown",
      "source": [
        "### Imports"
      ],
      "metadata": {
        "id": "q1ABUPU7L6em"
      }
    },
    {
      "cell_type": "code",
      "source": [
        "import heapq"
      ],
      "metadata": {
        "id": "i3TtxZ2SL6en"
      },
      "execution_count": 1,
      "outputs": []
    },
    {
      "cell_type": "markdown",
      "source": [
        "### Definition of the Heuristic Function"
      ],
      "metadata": {
        "id": "hnp5US3YLdEb"
      }
    },
    {
      "cell_type": "code",
      "source": [
        "# Define heuristic functions\n",
        "def calculate_path_cost(graph, path):\n",
        "    # TODO: Calculate the total cost of the given path in the graph.\n",
        "    cost = 0\n",
        "    for i in range(len(path) - 1):\n",
        "        cost += graph[path[i]][path[i + 1]]\n",
        "    return cost\n",
        "    pass"
      ],
      "metadata": {
        "id": "2XryJbWuLdEc"
      },
      "execution_count": 2,
      "outputs": []
    },
    {
      "cell_type": "markdown",
      "source": [
        "### Lower Bound Calculation"
      ],
      "metadata": {
        "id": "EULYS1zCLF6l"
      }
    },
    {
      "cell_type": "code",
      "source": [
        "def calculate_lower_bound(graph, visited_cities, current_city):\n",
        "    # TODO: Calculate the lower bound for the current state using the minimum\n",
        "    # outgoing edge and the minimum incoming edge.\n",
        "    min_outgoing = float('inf')\n",
        "    for city in range(len(graph)):\n",
        "        if city not in visited_cities and graph[current_city][city] < min_outgoing:\n",
        "            min_outgoing = graph[current_city][city]\n",
        "\n",
        "    # Find the minimum incoming edge cost to the current city from an unvisited city\n",
        "    min_incoming = float('inf')\n",
        "    for city in range(len(graph)):\n",
        "        if city not in visited_cities and graph[city][current_city] < min_incoming:\n",
        "            min_incoming = graph[city][current_city]\n",
        "\n",
        "    return min_outgoing + min_incoming\n",
        "    pass"
      ],
      "metadata": {
        "id": "dnAv1jaZLF6l"
      },
      "execution_count": 3,
      "outputs": []
    },
    {
      "cell_type": "markdown",
      "source": [
        "### Priority Queue Creation"
      ],
      "metadata": {
        "id": "Lf4397PeUJaT"
      }
    },
    {
      "cell_type": "code",
      "source": [
        "def initialize_priority_queue(num_cities):\n",
        "    # TODO: Create the initial state (starting city, visited cities set, and path)\n",
        "    # and initialize the priority queue with it.\n",
        "    initial_state = (0, set([0]), [0])  # (current_cost, visited_cities, path)\n",
        "    priority_queue = [initial_state]\n",
        "    heapq.heapify(priority_queue)\n",
        "    return priority_queue\n",
        "    pass"
      ],
      "metadata": {
        "id": "qi079WGQUJRU"
      },
      "execution_count": 4,
      "outputs": []
    },
    {
      "cell_type": "markdown",
      "source": [
        "### Define the Branch and Bound algorithm"
      ],
      "metadata": {
        "id": "WZrvsX8_ri3a"
      }
    },
    {
      "cell_type": "code",
      "source": [
        "def tsp_branch_and_bound(graph):\n",
        "    num_cities = len(graph)\n",
        "    # Initialize the priority queue with the initial state\n",
        "    priority_queue = initialize_priority_queue(num_cities)\n",
        "    # Initialize the best solution\n",
        "    best_path = None\n",
        "    best_cost = float('inf')\n",
        "\n",
        "    while priority_queue:\n",
        "        current_cost, visited_cities, path = heapq.heappop(priority_queue)\n",
        "        current_city = path[-1]\n",
        "        # TODO: If all cities are visited, check if this is a better solution\n",
        "        # and update best_path and best_cost if needed.\n",
        "        if len(visited_cities) == num_cities:\n",
        "            current_cost += graph[current_city][0]  # Return to the starting city\n",
        "            if current_cost < best_cost:\n",
        "                best_path = path\n",
        "                best_cost = current_cost\n",
        "        # TODO: Generate child states (unvisited cities) and add them to the\n",
        "        # priority_queue after calculating their lower bounds.\n",
        "        for city in range(num_cities):\n",
        "            if city not in visited_cities:\n",
        "                lower_bound = current_cost + calculate_lower_bound(graph, visited_cities, current_city)\n",
        "                if lower_bound < best_cost:\n",
        "                    new_visited = visited_cities.copy()\n",
        "                    new_visited.add(city)\n",
        "                    new_path = path.copy()\n",
        "                    new_path.append(city)\n",
        "                    heapq.heappush(priority_queue, (current_cost + graph[current_city][city], new_visited, new_path))\n",
        "\n",
        "    return best_path, best_cost"
      ],
      "metadata": {
        "id": "Lk7ipyj16Jx8"
      },
      "execution_count": 5,
      "outputs": []
    },
    {
      "cell_type": "markdown",
      "source": [
        "### Mai function to solve the problem"
      ],
      "metadata": {
        "id": "TYRZ-f3G6Tpj"
      }
    },
    {
      "cell_type": "code",
      "source": [
        "# Example usage\n",
        "if __name__ == \"__main__\":\n",
        "    # Example graph (distances between cities)\n",
        "    graph = [\n",
        "        [0, 10, 15, 20],\n",
        "        [10, 0, 35, 25],\n",
        "        [15, 35, 0, 30],\n",
        "        [20, 25, 30, 0]\n",
        "    ]\n",
        "\n",
        "    best_path, best_cost = tsp_branch_and_bound(graph)\n",
        "    print(\"Best TSP Path:\", best_path)\n",
        "    print(\"Best TSP Cost:\", best_cost)"
      ],
      "metadata": {
        "id": "VFUkDQUY6WiX",
        "outputId": "b97358c0-868d-4e00-c72f-7e966310942c",
        "colab": {
          "base_uri": "https://localhost:8080/"
        }
      },
      "execution_count": 6,
      "outputs": [
        {
          "output_type": "stream",
          "name": "stdout",
          "text": [
            "Best TSP Path: [0, 1, 3, 2]\n",
            "Best TSP Cost: 80\n"
          ]
        }
      ]
    },
    {
      "cell_type": "code",
      "source": [],
      "metadata": {
        "id": "yEgM3J4uUoDy"
      },
      "execution_count": 6,
      "outputs": []
    }
  ]
}