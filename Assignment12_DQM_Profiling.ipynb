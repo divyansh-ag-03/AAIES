{
  "nbformat": 4,
  "nbformat_minor": 0,
  "metadata": {
    "colab": {
      "provenance": [],
      "include_colab_link": true
    },
    "kernelspec": {
      "name": "python3",
      "display_name": "Python 3"
    },
    "language_info": {
      "name": "python"
    }
  },
  "cells": [
    {
      "cell_type": "markdown",
      "metadata": {
        "id": "view-in-github",
        "colab_type": "text"
      },
      "source": [
        "<a href=\"https://colab.research.google.com/github/divyansh-ag-03/AAIES/blob/main/Assignment12_DQM_Profiling.ipynb\" target=\"_parent\"><img src=\"https://colab.research.google.com/assets/colab-badge.svg\" alt=\"Open In Colab\"/></a>"
      ]
    },
    {
      "cell_type": "markdown",
      "source": [
        "Perform Data Quality Checks and various Profiling Functions over the UCI Adult Dataset.\n",
        "\n",
        "Link for the Dataset:\n",
        "\n",
        "http://archive.ics.uci.edu/dataset/2/adult\n"
      ],
      "metadata": {
        "id": "5r2msEl9py3R"
      }
    },
    {
      "cell_type": "markdown",
      "source": [
        "## The Code"
      ],
      "metadata": {
        "id": "hi0nFuvoppT9"
      }
    },
    {
      "cell_type": "markdown",
      "source": [
        "### Imports"
      ],
      "metadata": {
        "id": "q1ABUPU7L6em"
      }
    },
    {
      "cell_type": "code",
      "source": [
        "!pip install ucimlrepo"
      ],
      "metadata": {
        "colab": {
          "base_uri": "https://localhost:8080/"
        },
        "id": "EyA1q_ANi2RQ",
        "outputId": "78659295-1f91-4451-d0d0-2b1e09f4de24"
      },
      "execution_count": null,
      "outputs": [
        {
          "output_type": "stream",
          "name": "stdout",
          "text": [
            "Collecting ucimlrepo\n",
            "  Downloading ucimlrepo-0.0.3-py3-none-any.whl (7.0 kB)\n",
            "Installing collected packages: ucimlrepo\n",
            "Successfully installed ucimlrepo-0.0.3\n"
          ]
        }
      ]
    },
    {
      "cell_type": "code",
      "source": [
        "import pandas as pd\n",
        "import numpy as np\n",
        "from ucimlrepo import fetch_ucirepo\n",
        "import matplotlib.pyplot as plt\n",
        "import seaborn as sns"
      ],
      "metadata": {
        "id": "-sllhA8rkAKf"
      },
      "execution_count": null,
      "outputs": []
    },
    {
      "cell_type": "markdown",
      "source": [
        "### Load the dataset into a DataFrame"
      ],
      "metadata": {
        "id": "EULYS1zCLF6l"
      }
    },
    {
      "cell_type": "code",
      "source": [
        "# Load the dataset into a DataFrame\n",
        "def load_dataset():\n",
        "    # TODO: Load the dataset from using ucimlrepo module as provided in the dataset link\n",
        "    # Define the dataset as a Pandas DataFrame\n",
        "    # fetch dataset\n",
        "    adult = fetch_ucirepo(id=2)\n",
        "\n",
        "    # data (as pandas dataframes)\n",
        "    X = adult.data.features\n",
        "    y = adult.data.targets\n",
        "\n",
        "    df = pd.concat([X, y], axis=1)\n",
        "\n",
        "    return df"
      ],
      "metadata": {
        "id": "W6DsZ9qZvD-v"
      },
      "execution_count": null,
      "outputs": []
    },
    {
      "cell_type": "markdown",
      "source": [
        "### Function for applying DQM Checks"
      ],
      "metadata": {
        "id": "zXJONO10fCBU"
      }
    },
    {
      "cell_type": "code",
      "source": [
        "def data_quality_checks(df):\n",
        "  # Handling missing values\n",
        "\n",
        "  # Check for duplicates\n",
        "\n",
        "  # Check for unique values in categorical columns\n",
        "\n",
        "  # Check for outliers using z-score\n"
      ],
      "metadata": {
        "id": "-BleLeI_fCBb"
      },
      "execution_count": null,
      "outputs": []
    },
    {
      "cell_type": "markdown",
      "source": [
        "### Applying profiling"
      ],
      "metadata": {
        "id": "TW1Bn5f99_o7"
      }
    },
    {
      "cell_type": "code",
      "source": [
        "def profiling_visualization(df):\n",
        "  # Display basic information about the dataset\n",
        "\n",
        "  # Descriptive statistics\n",
        "\n",
        "  # Categorical feature profiling\n",
        "\n",
        "  # Numerical feature profiling\n"
      ],
      "metadata": {
        "id": "bjmz04Jg9-zQ"
      },
      "execution_count": null,
      "outputs": []
    },
    {
      "cell_type": "markdown",
      "source": [
        "### Main function to display recommendation"
      ],
      "metadata": {
        "id": "TYRZ-f3G6Tpj"
      }
    },
    {
      "cell_type": "code",
      "source": [],
      "metadata": {
        "id": "VFUkDQUY6WiX"
      },
      "execution_count": null,
      "outputs": []
    }
  ]
}