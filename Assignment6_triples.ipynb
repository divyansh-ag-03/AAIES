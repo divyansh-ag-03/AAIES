{
  "nbformat": 4,
  "nbformat_minor": 0,
  "metadata": {
    "colab": {
      "provenance": [],
      "include_colab_link": true
    },
    "kernelspec": {
      "name": "python3",
      "display_name": "Python 3"
    },
    "language_info": {
      "name": "python"
    }
  },
  "cells": [
    {
      "cell_type": "markdown",
      "metadata": {
        "id": "view-in-github",
        "colab_type": "text"
      },
      "source": [
        "<a href=\"https://colab.research.google.com/github/divyansh-ag-03/AAIES/blob/main/Assignment6_triples.ipynb\" target=\"_parent\"><img src=\"https://colab.research.google.com/assets/colab-badge.svg\" alt=\"Open In Colab\"/></a>"
      ]
    },
    {
      "cell_type": "markdown",
      "source": [
        "<b>The Problem Statement</b>:\n",
        "\n",
        "Form triples based on the following paragraph:\n",
        "\n",
        "\"Alice is enrolled in Computer Science 101. Bob is enrolled in Physics 201. Charlie is enrolled in Mathematics 301. Computer Science 101 is taught by Professor Smith. Physics 201 is taught by Professor Johnson. Mathematics 301 is taught by Professor Brown.\"\n",
        "\n",
        "Use the above to paragraph extract triples and build a complete graph representing the relationships between students, courses, and instructors in a university setting.\n",
        "\n",
        "\n",
        "\n",
        "\n",
        "\n"
      ],
      "metadata": {
        "id": "5r2msEl9py3R"
      }
    },
    {
      "cell_type": "markdown",
      "source": [
        "## The Code"
      ],
      "metadata": {
        "id": "hi0nFuvoppT9"
      }
    },
    {
      "cell_type": "markdown",
      "source": [
        "#Divyansh Agrawal - 21CSU214"
      ],
      "metadata": {
        "id": "54D72FuXrx7Y"
      }
    },
    {
      "cell_type": "markdown",
      "source": [
        "### Imports"
      ],
      "metadata": {
        "id": "q1ABUPU7L6em"
      }
    },
    {
      "cell_type": "code",
      "source": [
        "!pip install pyvis\n",
        "!pip install pyvis==0.1.9\n",
        "!pip install nxpd"
      ],
      "metadata": {
        "colab": {
          "base_uri": "https://localhost:8080/"
        },
        "id": "Z9ue7LAviGeu",
        "outputId": "cb5631fc-95a0-4444-b793-ccd51d1f18e5"
      },
      "execution_count": 18,
      "outputs": [
        {
          "output_type": "stream",
          "name": "stdout",
          "text": [
            "Requirement already satisfied: pyvis in /usr/local/lib/python3.10/dist-packages (0.1.9)\n",
            "Requirement already satisfied: jinja2>=2.9.6 in /usr/local/lib/python3.10/dist-packages (from pyvis) (3.1.2)\n",
            "Requirement already satisfied: networkx>=1.11 in /usr/local/lib/python3.10/dist-packages (from pyvis) (3.1)\n",
            "Requirement already satisfied: ipython>=5.3.0 in /usr/local/lib/python3.10/dist-packages (from pyvis) (7.34.0)\n",
            "Requirement already satisfied: jsonpickle>=1.4.1 in /usr/local/lib/python3.10/dist-packages (from pyvis) (3.0.2)\n",
            "Requirement already satisfied: setuptools>=18.5 in /usr/local/lib/python3.10/dist-packages (from ipython>=5.3.0->pyvis) (67.7.2)\n",
            "Requirement already satisfied: jedi>=0.16 in /usr/local/lib/python3.10/dist-packages (from ipython>=5.3.0->pyvis) (0.19.0)\n",
            "Requirement already satisfied: decorator in /usr/local/lib/python3.10/dist-packages (from ipython>=5.3.0->pyvis) (4.4.2)\n",
            "Requirement already satisfied: pickleshare in /usr/local/lib/python3.10/dist-packages (from ipython>=5.3.0->pyvis) (0.7.5)\n",
            "Requirement already satisfied: traitlets>=4.2 in /usr/local/lib/python3.10/dist-packages (from ipython>=5.3.0->pyvis) (5.7.1)\n",
            "Requirement already satisfied: prompt-toolkit!=3.0.0,!=3.0.1,<3.1.0,>=2.0.0 in /usr/local/lib/python3.10/dist-packages (from ipython>=5.3.0->pyvis) (3.0.39)\n",
            "Requirement already satisfied: pygments in /usr/local/lib/python3.10/dist-packages (from ipython>=5.3.0->pyvis) (2.16.1)\n",
            "Requirement already satisfied: backcall in /usr/local/lib/python3.10/dist-packages (from ipython>=5.3.0->pyvis) (0.2.0)\n",
            "Requirement already satisfied: matplotlib-inline in /usr/local/lib/python3.10/dist-packages (from ipython>=5.3.0->pyvis) (0.1.6)\n",
            "Requirement already satisfied: pexpect>4.3 in /usr/local/lib/python3.10/dist-packages (from ipython>=5.3.0->pyvis) (4.8.0)\n",
            "Requirement already satisfied: MarkupSafe>=2.0 in /usr/local/lib/python3.10/dist-packages (from jinja2>=2.9.6->pyvis) (2.1.3)\n",
            "Requirement already satisfied: parso<0.9.0,>=0.8.3 in /usr/local/lib/python3.10/dist-packages (from jedi>=0.16->ipython>=5.3.0->pyvis) (0.8.3)\n",
            "Requirement already satisfied: ptyprocess>=0.5 in /usr/local/lib/python3.10/dist-packages (from pexpect>4.3->ipython>=5.3.0->pyvis) (0.7.0)\n",
            "Requirement already satisfied: wcwidth in /usr/local/lib/python3.10/dist-packages (from prompt-toolkit!=3.0.0,!=3.0.1,<3.1.0,>=2.0.0->ipython>=5.3.0->pyvis) (0.2.6)\n",
            "Requirement already satisfied: pyvis==0.1.9 in /usr/local/lib/python3.10/dist-packages (0.1.9)\n",
            "Requirement already satisfied: jinja2>=2.9.6 in /usr/local/lib/python3.10/dist-packages (from pyvis==0.1.9) (3.1.2)\n",
            "Requirement already satisfied: networkx>=1.11 in /usr/local/lib/python3.10/dist-packages (from pyvis==0.1.9) (3.1)\n",
            "Requirement already satisfied: ipython>=5.3.0 in /usr/local/lib/python3.10/dist-packages (from pyvis==0.1.9) (7.34.0)\n",
            "Requirement already satisfied: jsonpickle>=1.4.1 in /usr/local/lib/python3.10/dist-packages (from pyvis==0.1.9) (3.0.2)\n",
            "Requirement already satisfied: setuptools>=18.5 in /usr/local/lib/python3.10/dist-packages (from ipython>=5.3.0->pyvis==0.1.9) (67.7.2)\n",
            "Requirement already satisfied: jedi>=0.16 in /usr/local/lib/python3.10/dist-packages (from ipython>=5.3.0->pyvis==0.1.9) (0.19.0)\n",
            "Requirement already satisfied: decorator in /usr/local/lib/python3.10/dist-packages (from ipython>=5.3.0->pyvis==0.1.9) (4.4.2)\n",
            "Requirement already satisfied: pickleshare in /usr/local/lib/python3.10/dist-packages (from ipython>=5.3.0->pyvis==0.1.9) (0.7.5)\n",
            "Requirement already satisfied: traitlets>=4.2 in /usr/local/lib/python3.10/dist-packages (from ipython>=5.3.0->pyvis==0.1.9) (5.7.1)\n",
            "Requirement already satisfied: prompt-toolkit!=3.0.0,!=3.0.1,<3.1.0,>=2.0.0 in /usr/local/lib/python3.10/dist-packages (from ipython>=5.3.0->pyvis==0.1.9) (3.0.39)\n",
            "Requirement already satisfied: pygments in /usr/local/lib/python3.10/dist-packages (from ipython>=5.3.0->pyvis==0.1.9) (2.16.1)\n",
            "Requirement already satisfied: backcall in /usr/local/lib/python3.10/dist-packages (from ipython>=5.3.0->pyvis==0.1.9) (0.2.0)\n",
            "Requirement already satisfied: matplotlib-inline in /usr/local/lib/python3.10/dist-packages (from ipython>=5.3.0->pyvis==0.1.9) (0.1.6)\n",
            "Requirement already satisfied: pexpect>4.3 in /usr/local/lib/python3.10/dist-packages (from ipython>=5.3.0->pyvis==0.1.9) (4.8.0)\n",
            "Requirement already satisfied: MarkupSafe>=2.0 in /usr/local/lib/python3.10/dist-packages (from jinja2>=2.9.6->pyvis==0.1.9) (2.1.3)\n",
            "Requirement already satisfied: parso<0.9.0,>=0.8.3 in /usr/local/lib/python3.10/dist-packages (from jedi>=0.16->ipython>=5.3.0->pyvis==0.1.9) (0.8.3)\n",
            "Requirement already satisfied: ptyprocess>=0.5 in /usr/local/lib/python3.10/dist-packages (from pexpect>4.3->ipython>=5.3.0->pyvis==0.1.9) (0.7.0)\n",
            "Requirement already satisfied: wcwidth in /usr/local/lib/python3.10/dist-packages (from prompt-toolkit!=3.0.0,!=3.0.1,<3.1.0,>=2.0.0->ipython>=5.3.0->pyvis==0.1.9) (0.2.6)\n",
            "Requirement already satisfied: nxpd in /usr/local/lib/python3.10/dist-packages (0.2.0)\n",
            "Requirement already satisfied: networkx>=1.6 in /usr/local/lib/python3.10/dist-packages (from nxpd) (3.1)\n",
            "Requirement already satisfied: pyparsing>=2.0.1 in /usr/local/lib/python3.10/dist-packages (from nxpd) (3.1.1)\n"
          ]
        }
      ]
    },
    {
      "cell_type": "code",
      "source": [
        "### NLTK libraries for triples extraction\n",
        "from nltk.tokenize import word_tokenize\n",
        "from nltk import pos_tag\n",
        "\n",
        "### To plot a networkx graph in pyvis\n",
        "import networkx as nx\n",
        "import matplotlib.pyplot as plt\n",
        "from pyvis.network import Network\n",
        "from IPython.display import HTML\n",
        "from IPython.display import display,IFrame"
      ],
      "metadata": {
        "id": "i3TtxZ2SL6en"
      },
      "execution_count": 19,
      "outputs": []
    },
    {
      "cell_type": "code",
      "source": [
        "import nltk\n",
        "nltk.download('punkt')\n",
        "nltk.download('averaged_perceptron_tagger')"
      ],
      "metadata": {
        "colab": {
          "base_uri": "https://localhost:8080/"
        },
        "id": "UVmaIJlAel-x",
        "outputId": "62322768-9b1c-4eed-ce9c-4d80638c7ec2"
      },
      "execution_count": 20,
      "outputs": [
        {
          "output_type": "stream",
          "name": "stderr",
          "text": [
            "[nltk_data] Downloading package punkt to /root/nltk_data...\n",
            "[nltk_data]   Package punkt is already up-to-date!\n",
            "[nltk_data] Downloading package averaged_perceptron_tagger to\n",
            "[nltk_data]     /root/nltk_data...\n",
            "[nltk_data]   Package averaged_perceptron_tagger is already up-to-\n",
            "[nltk_data]       date!\n"
          ]
        },
        {
          "output_type": "execute_result",
          "data": {
            "text/plain": [
              "True"
            ]
          },
          "metadata": {},
          "execution_count": 20
        }
      ]
    },
    {
      "cell_type": "markdown",
      "source": [
        "### Definition of the Triples"
      ],
      "metadata": {
        "id": "hnp5US3YLdEb"
      }
    },
    {
      "cell_type": "code",
      "source": [
        "# Manually define the triples from the paragraph in the subject predicate and object format as a list of tuples\n",
        "triples = []"
      ],
      "metadata": {
        "id": "2XryJbWuLdEc"
      },
      "execution_count": 21,
      "outputs": []
    },
    {
      "cell_type": "markdown",
      "source": [
        "### Graph Building using Networkx"
      ],
      "metadata": {
        "id": "EULYS1zCLF6l"
      }
    },
    {
      "cell_type": "code",
      "source": [
        "# Function to build a NetworkX graph from extracted triples\n",
        "def build_networkx_graph(triples):\n",
        "    \"\"\"\n",
        "    Builds a NetworkX graph from a list of subject-predicate-object triples.\n",
        "\n",
        "    Args:\n",
        "        triples (list): A list of extracted triples, each represented as a tuple (subject, predicate, object).\n",
        "\n",
        "    Returns:\n",
        "        networkx.Graph: A NetworkX graph representing relationships between students, courses, and instructors.\n",
        "    \"\"\"\n",
        "    # TO-DO: Implement the code to build a NetworkX graph from the triples\n",
        "    # Initialize an empty NetworkX graph\n",
        "    G = nx.Graph()\n",
        "    # Iterate through the triples\n",
        "    # Add nodes with node types (student, course, instructor)\n",
        "    # Add edges with relationship types (enrolled in, taught by)\n",
        "    for triple in triples:\n",
        "        subject, predicate, obj = triple\n",
        "        G.add_node(subject, type='student' if 'student' in subject.lower() else 'course' if 'course' in subject.lower() else 'instructor')\n",
        "        G.add_node(obj, type='student' if 'student' in obj.lower() else 'course' if 'course' in obj.lower() else 'instructor')\n",
        "        G.add_edge(subject, obj, relation=predicate)\n",
        "    # Return the NetworkX graph\n",
        "    return G"
      ],
      "metadata": {
        "id": "dnAv1jaZLF6l"
      },
      "execution_count": 22,
      "outputs": []
    },
    {
      "cell_type": "markdown",
      "source": [
        "### Graph Visualize using Matplotlib"
      ],
      "metadata": {
        "id": "zXJONO10fCBU"
      }
    },
    {
      "cell_type": "code",
      "source": [
        "# Function to save the graph as \"university_relationship_graph.html\" using PyVis\n",
        "def save_graph_pyvis(graph):\n",
        "    \"\"\"\n",
        "    Visualizes a NetworkX graph using PyVis and saves it as an HTML file.\n",
        "\n",
        "    Args:\n",
        "        graph (networkx.Graph): The NetworkX graph to be visualized.\n",
        "\n",
        "    Returns:\n",
        "        None\n",
        "    \"\"\"\n",
        "    # TO-DO: Implement the code to visualize the graph using PyVis\n",
        "    # Create an empty PyVis Network object\n",
        "    pos = nx.spring_layout(graph, seed=42)\n",
        "    # Add nodes and edges to the PyVis graph\n",
        "    node_colors = [get_node_color(graph.nodes[node]['type']) for node in graph.nodes]\n",
        "    edge_colors = [get_edge_color(graph.edges[edge]['relation']) for edge in graph.edges]\n",
        "\n",
        "    nx.draw(graph, pos, with_labels=True, node_color=node_colors, edge_color=edge_colors, font_size=10, font_weight=\"bold\", node_size=500)\n",
        "    plt.show()"
      ],
      "metadata": {
        "id": "-BleLeI_fCBb"
      },
      "execution_count": 23,
      "outputs": []
    },
    {
      "cell_type": "markdown",
      "source": [
        "### Main function to solve the problem"
      ],
      "metadata": {
        "id": "TYRZ-f3G6Tpj"
      }
    },
    {
      "cell_type": "code",
      "source": [
        "def get_node_color(node):\n",
        "    node_label = node.lower()\n",
        "    if 'student' in node_label:\n",
        "        return 'blue'\n",
        "    elif 'course' in node_label:\n",
        "        return 'green'\n",
        "    elif 'instructor' in node_label:\n",
        "        return 'red'\n",
        "\n",
        "def get_edge_color(relation):\n",
        "    if relation == 'enrolled in':\n",
        "        return 'blue'\n",
        "    elif relation == 'taught by':\n",
        "        return 'red'\n",
        "# Given paragraph\n",
        "paragraph = \"Alice is enrolled in Computer Science 101. Bob is enrolled in Physics 201. Charlie is enrolled in Mathematics 301. Computer Science 101 is taught by Professor Smith. Physics 201 is taught by Professor Johnson. Mathematics 301 is taught by Professor Brown.\"\n",
        "\n",
        "# Function to extract triples from the paragraph using NLTK\n",
        "def extract_triples_nltk(paragraph):\n",
        "    triples = []\n",
        "    sentences = nltk.sent_tokenize(paragraph)\n",
        "\n",
        "    for sentence in sentences:\n",
        "        words = word_tokenize(sentence)\n",
        "        tagged_words = pos_tag(words)\n",
        "\n",
        "        student = None\n",
        "        course = None\n",
        "        instructor = None\n",
        "\n",
        "        for i in range(len(tagged_words)):\n",
        "            if tagged_words[i][0].istitle():\n",
        "                if i + 3 < len(tagged_words) and tagged_words[i + 1][0] == 'is' and tagged_words[i + 2][0] == 'enrolled':\n",
        "                    student = tagged_words[i][0]\n",
        "                    course = tagged_words[i + 3][0]\n",
        "                    triples.append((student, 'enrolled in', course))\n",
        "                elif i + 4 < len(tagged_words) and tagged_words[i + 1][0] == 'is' and tagged_words[i + 2][0] == 'taught' and tagged_words[i + 3][0] == 'by':\n",
        "                    course = tagged_words[i][0]\n",
        "                    instructor = tagged_words[i + 4][0]\n",
        "                    triples.append((course, 'taught by', instructor))\n",
        "\n",
        "    return triples\n",
        "\n",
        "# Extract triples using NLTK\n",
        "triples = extract_triples_nltk(paragraph)\n",
        "\n",
        "# Build a graph using the manually defined triples\n",
        "graph = build_networkx_graph(triples)\n",
        "\n",
        "# Visualize the graph\n",
        "save_graph_pyvis(graph)"
      ],
      "metadata": {
        "id": "VFUkDQUY6WiX",
        "outputId": "d2f7e465-801e-4c01-c253-670c88442fda",
        "colab": {
          "base_uri": "https://localhost:8080/",
          "height": 516
        }
      },
      "execution_count": 27,
      "outputs": [
        {
          "output_type": "display_data",
          "data": {
            "text/plain": [
              "<Figure size 640x480 with 1 Axes>"
            ],
            "image/png": "[encoded data removed]"
          },
          "metadata": {}
        }
      ]
    },
    {
      "cell_type": "code",
      "source": [],
      "metadata": {
        "id": "yEgM3J4uUoDy"
      },
      "execution_count": 27,
      "outputs": []
    }
  ]
}