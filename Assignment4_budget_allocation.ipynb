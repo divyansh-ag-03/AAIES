{
  "nbformat": 4,
  "nbformat_minor": 0,
  "metadata": {
    "colab": {
      "provenance": [],
      "include_colab_link": true
    },
    "kernelspec": {
      "name": "python3",
      "display_name": "Python 3"
    },
    "language_info": {
      "name": "python"
    }
  },
  "cells": [
    {
      "cell_type": "markdown",
      "metadata": {
        "id": "view-in-github",
        "colab_type": "text"
      },
      "source": [
        "<a href=\"https://colab.research.google.com/github/divyansh-ag-03/AAIES/blob/main/Assignment4_budget_allocation.ipynb\" target=\"_parent\"><img src=\"https://colab.research.google.com/assets/colab-badge.svg\" alt=\"Open In Colab\"/></a>"
      ]
    },
    {
      "cell_type": "markdown",
      "source": [
        "<b>The Problem Statement</b>:\n",
        "\n",
        "Write a Greedy Algorithm Based program for the following problem:\n",
        "A company is planning to launch a new product. They have a limited budget to spend on marketing and advertising. They need to decide how to allocate their budget to maximize the number of people who will be aware of their product.\n",
        "Marketing Channels:\n",
        "\n",
        "\n",
        "Social Media: Cost - 50,  Reach - 1000 people aware of the product.\n",
        "\n",
        "\n",
        "Email Campaign: Cost - $80, Reach - 1500 people aware of the product.</br>\n",
        "\n",
        "\n",
        "Influencer Collaboration: Cost - $120, Reach - 2500 people aware of the product.\n",
        "\n",
        "Budget Constraint: $200\n",
        "\n",
        "Now, the company wants to allocate their budget to these marketing channels in such a way that they maximize the total number of people aware of their product.\n",
        "\n",
        "\n",
        "\n",
        "\n",
        "\n"
      ],
      "metadata": {
        "id": "5r2msEl9py3R"
      }
    },
    {
      "cell_type": "markdown",
      "source": [
        "## The Code"
      ],
      "metadata": {
        "id": "hi0nFuvoppT9"
      }
    },
    {
      "cell_type": "markdown",
      "source": [
        "#Divyansh Agrawal - 21CSU214"
      ],
      "metadata": {
        "id": "XfzMHC1d3wPv"
      }
    },
    {
      "cell_type": "markdown",
      "source": [
        "### Imports"
      ],
      "metadata": {
        "id": "q1ABUPU7L6em"
      }
    },
    {
      "cell_type": "code",
      "source": [
        "import heapq"
      ],
      "metadata": {
        "id": "i3TtxZ2SL6en"
      },
      "execution_count": 1,
      "outputs": []
    },
    {
      "cell_type": "markdown",
      "source": [
        "### Definition of Heuristic Functions"
      ],
      "metadata": {
        "id": "hnp5US3YLdEb"
      }
    },
    {
      "cell_type": "code",
      "source": [
        "# Define heuristic functions\n",
        "def reach_to_cost_ratio_heuristic(reach, cost):\n",
        "    return reach / cost\n",
        "\n",
        "def reach_heuristic(reach,cost):\n",
        "    return reach"
      ],
      "metadata": {
        "id": "2XryJbWuLdEc"
      },
      "execution_count": 2,
      "outputs": []
    },
    {
      "cell_type": "markdown",
      "source": [
        "### Priority Queue Creation"
      ],
      "metadata": {
        "id": "EULYS1zCLF6l"
      }
    },
    {
      "cell_type": "code",
      "source": [
        "def create_priority_queue(channels, heuristic_function):\n",
        "    \"\"\"\n",
        "    Create a priority queue based on a specified heuristic function.\n",
        "\n",
        "    Args:\n",
        "        channels (list): List of marketing channels as tuples (reach, cost, channel_name).\n",
        "      heuristic_function (function): A function to calculate the priority score for a channel.\n",
        "\n",
        "    Returns:\n",
        "        list: A priority queue of channels.\n",
        "    \"\"\"\n",
        "    priority_queue = []\n",
        "    for channel in channels:\n",
        "        reach, cost, channel_name = channel\n",
        "        priority_score = heuristic_function(reach, cost)\n",
        "        heapq.heappush(priority_queue, (-priority_score, channel))\n",
        "    return priority_queue"
      ],
      "metadata": {
        "id": "dnAv1jaZLF6l"
      },
      "execution_count": 3,
      "outputs": []
    },
    {
      "cell_type": "markdown",
      "source": [
        "### Define the Greedy algorithm"
      ],
      "metadata": {
        "id": "WZrvsX8_ri3a"
      }
    },
    {
      "cell_type": "code",
      "source": [
        "def greedy_allocation(priority_queue, budget):\n",
        "    \"\"\"\n",
        "    Allocate budget greedily based on the priority queue.\n",
        "\n",
        "    Args:\n",
        "        priority_queue (list): A priority queue of channels.\n",
        "        budget (int): The budget constraint.\n",
        "\n",
        "    Returns:\n",
        "        list: A list of allocated channels.\n",
        "    \"\"\"\n",
        "    allocated_channels = []\n",
        "    allocated_reach = 0\n",
        "    while budget > 0 and priority_queue:\n",
        "        priority_score, channel = heapq.heappop(priority_queue)\n",
        "        reach, cost, channel_name = channel\n",
        "        if cost <= budget:\n",
        "            allocated_channels.append((channel_name, cost))\n",
        "            allocated_reach += reach\n",
        "            budget -= cost\n",
        "    return allocated_channels, allocated_reach"
      ],
      "metadata": {
        "id": "Lk7ipyj16Jx8"
      },
      "execution_count": 4,
      "outputs": []
    },
    {
      "cell_type": "markdown",
      "source": [
        "### Main function to solve the problem"
      ],
      "metadata": {
        "id": "TYRZ-f3G6Tpj"
      }
    },
    {
      "cell_type": "code",
      "source": [
        "def main():\n",
        "    \"\"\"\n",
        "    Driver function for the marketing budget problem.\n",
        "    \"\"\"\n",
        "    # Define the marketing channels as tuples (reach, cost, channel_name)\n",
        "    social_media = (1000, 50, \"Social Media\")\n",
        "    email_campaign = (1500, 80, \"Email Campaign\")\n",
        "    influencer_collaboration = (2500, 120, \"Influencer Collaboration\")\n",
        "\n",
        "    # Create a list of marketing channels\n",
        "    marketing_channels = [social_media, email_campaign, influencer_collaboration]\n",
        "\n",
        "    # Budget constraint\n",
        "    budget_constraint = 200\n",
        "\n",
        "    # Create a priority queue based on reach-to-cost ratio heuristic\n",
        "    ratio_priority_queue = create_priority_queue(marketing_channels, reach_to_cost_ratio_heuristic)\n",
        "    allocated_channels_ratio, total_reach_ratio = greedy_allocation(ratio_priority_queue, budget_constraint)\n",
        "\n",
        "    # Create a priority queue based on reach heuristic\n",
        "    reach_priority_queue = create_priority_queue(marketing_channels, reach_heuristic)\n",
        "    allocated_channels_reach, total_reach_reach = greedy_allocation(reach_priority_queue, budget_constraint)\n",
        "\n",
        "    print(\"Allocation based on reach-to-cost ratio heuristic:\")\n",
        "    for channel, cost in allocated_channels_ratio:\n",
        "        print(f\"{channel}: ${cost}\")\n",
        "    print(f\"Total reach: {total_reach_ratio} people\")\n",
        "\n",
        "    print(\"\\nAllocation based on reach heuristic:\")\n",
        "    for channel, cost in allocated_channels_reach:\n",
        "        print(f\"{channel}: ${cost}\")\n",
        "    print(f\"Total reach: {total_reach_reach} people\")\n",
        "\n",
        "    #total_reach_ratio = 5000\n",
        "\n",
        "    # Compare and print which allocation method is best\n",
        "    if total_reach_ratio > total_reach_reach:\n",
        "        print(\"\\nReach-to-Cost Ratio Heuristic Allocation is better based on reach.\")\n",
        "    elif total_reach_reach > total_reach_ratio:\n",
        "        print(\"\\nReach Heuristic Allocation is better based on reach.\")\n",
        "    else:\n",
        "        print(\"\\nBoth allocation methods are equally good based on reach.\")\n",
        "\n",
        "if __name__ == \"__main__\":\n",
        "    main()"
      ],
      "metadata": {
        "id": "VFUkDQUY6WiX",
        "colab": {
          "base_uri": "https://localhost:8080/"
        },
        "outputId": "17d0d3dd-651f-45ea-b39b-130a64049958"
      },
      "execution_count": 5,
      "outputs": [
        {
          "output_type": "stream",
          "name": "stdout",
          "text": [
            "Allocation based on reach-to-cost ratio heuristic:\n",
            "Influencer Collaboration: $120\n",
            "Social Media: $50\n",
            "Total reach: 3500 people\n",
            "\n",
            "Allocation based on reach heuristic:\n",
            "Influencer Collaboration: $120\n",
            "Email Campaign: $80\n",
            "Total reach: 4000 people\n",
            "\n",
            "Reach Heuristic Allocation is better based on reach.\n"
          ]
        }
      ]
    },
    {
      "cell_type": "code",
      "source": [],
      "metadata": {
        "id": "lvsqJcOl3qKm"
      },
      "execution_count": null,
      "outputs": []
    }
  ]
}