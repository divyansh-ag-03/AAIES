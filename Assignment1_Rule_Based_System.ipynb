{
  "nbformat": 4,
  "nbformat_minor": 0,
  "metadata": {
    "colab": {
      "provenance": [],
      "include_colab_link": true
    },
    "kernelspec": {
      "name": "python3",
      "display_name": "Python 3"
    },
    "language_info": {
      "name": "python"
    }
  },
  "cells": [
    {
      "cell_type": "markdown",
      "metadata": {
        "id": "view-in-github",
        "colab_type": "text"
      },
      "source": [
        "<a href=\"https://colab.research.google.com/github/divyansh-ag-03/AAIES/blob/main/Assignment1_Rule_Based_System.ipynb\" target=\"_parent\"><img src=\"https://colab.research.google.com/assets/colab-badge.svg\" alt=\"Open In Colab\"/></a>"
      ]
    },
    {
      "cell_type": "markdown",
      "source": [
        "<b>The Problem Statement</b>:\n",
        "\n",
        "You are tasked with creating a simple rule-based pet care assistant in Python. The goal is to develop a basic program that provides helpful reminders and suggestions for taking care of different types of pets, such as dogs, cats, and birds, based on predefined rules.\n",
        "\n",
        "<b>Some Rules to get you started</b>:\n",
        "\n",
        "*Example of a rule for dogs:* If the dog is a puppy (i.e. less than 2 years old) frequent training may be needed.\n",
        "\n",
        "*Example of a rule for cats:* If the cat's health is poor one may needed onitor their cat closely and consult a vet for any health issues."
      ],
      "metadata": {
        "id": "5r2msEl9py3R"
      }
    },
    {
      "cell_type": "code",
      "source": [],
      "metadata": {
        "id": "bPkPsszQESW3"
      },
      "execution_count": null,
      "outputs": []
    },
    {
      "cell_type": "markdown",
      "source": [
        "# Divyansh Agrawal - 21CSU214"
      ],
      "metadata": {
        "id": "bdCMahrABt1k"
      }
    },
    {
      "cell_type": "markdown",
      "source": [
        "## The Code"
      ],
      "metadata": {
        "id": "hi0nFuvoppT9"
      }
    },
    {
      "cell_type": "markdown",
      "source": [],
      "metadata": {
        "id": "wb3nXScStc8D"
      }
    },
    {
      "cell_type": "code",
      "source": [
        "class PetCareAssistant:\n",
        "    def __init__(self, pet_type):\n",
        "        self.pet_type = pet_type.lower()"
      ],
      "metadata": {
        "id": "te571_WazWKL"
      },
      "execution_count": null,
      "outputs": []
    },
    {
      "cell_type": "markdown",
      "source": [],
      "metadata": {
        "id": "RiHIQ0zytcdX"
      }
    },
    {
      "cell_type": "markdown",
      "source": [
        "### Function to get the user's pet choice"
      ],
      "metadata": {
        "id": "WZrvsX8_ri3a"
      }
    },
    {
      "cell_type": "code",
      "source": [
        "# Function to get the user's pet choice\n",
        "def get_pet_choice():\n",
        "  while True:\n",
        "        pet_choice = input(\"What type of pet do you have (dog, cat, or bird)? \").lower()\n",
        "        if pet_choice in [\"dog\", \"cat\", \"bird\"]:\n",
        "            return pet_choice\n",
        "        else:\n",
        "            print(\"Invalid input. Please enter 'dog', 'cat', or 'bird'.\")\n"
      ],
      "metadata": {
        "id": "eZOS63c-rij3"
      },
      "execution_count": null,
      "outputs": []
    },
    {
      "cell_type": "markdown",
      "source": [
        "### Function to get pet's age and health as input from user"
      ],
      "metadata": {
        "id": "ih-mnNqnvI6N"
      }
    },
    {
      "cell_type": "code",
      "source": [
        "\n",
        "# Function to get the pet's age from the user\n",
        "def get_pet_age():\n",
        "  while True:\n",
        "        try:\n",
        "            age = int(input(\"How old is your pet? \"))\n",
        "            if age >= 0:\n",
        "                return age\n",
        "            else:\n",
        "                print(\"Invalid input. Please enter a positive integer.\")\n",
        "        except ValueError:\n",
        "            print(\"Invalid input. Please enter a valid age (a positive integer).\")\n"
      ],
      "metadata": {
        "id": "bOmAKcsmvGkM"
      },
      "execution_count": null,
      "outputs": []
    },
    {
      "cell_type": "code",
      "source": [
        "\n",
        "def get_pet_health():\n",
        "  while True:\n",
        "        try:\n",
        "            health_condition = int(input(\"Enter the health condition of your pet (1 for good, 2 for normal, 3 for bad): \"))\n",
        "            if health_condition in [1, 2, 3]:\n",
        "                return health_condition\n",
        "            else:\n",
        "                print(\"Invalid input. Please enter 1, 2, or 3 for the health condition.\")\n",
        "        except ValueError:\n",
        "            print(\"Invalid input. Please enter a valid number (1, 2, or 3).\")\n"
      ],
      "metadata": {
        "id": "31-njL3fvIEn"
      },
      "execution_count": null,
      "outputs": []
    },
    {
      "cell_type": "markdown",
      "source": [
        "### Function for rules for providing pet care tips"
      ],
      "metadata": {
        "id": "10mIZiAxrIWD"
      }
    },
    {
      "cell_type": "code",
      "execution_count": null,
      "metadata": {
        "id": "EIpHv9ckpYzh"
      },
      "outputs": [],
      "source": [
        "# Function to provide pet care tips based on the user's choice, age, and health\n",
        "def provide_pet_care_tips(pet_choice , pet_age , pet_health):\n",
        "  def health_function(health):\n",
        "        if health == 1:\n",
        "            print(\"The health of the pet is good. Provide proper nutrition and regular exercise to maintain their well-being.\")\n",
        "        elif health == 2:\n",
        "            print(\"The health of the pet is okay. Ensure proper nutrition with multivitamins and moderate exercise.\")\n",
        "        elif health == 3:\n",
        "            print(\"The health of the pet is not good. Provide proper nutrition, multivitamins, and prescribed medications, along with required physical activity. Regularly visit the veterinarian for check-ups.\")\n",
        "        else:\n",
        "            print(\"Invalid Input! Please enter 1, 2, or 3 for the health condition.\")\n",
        "\n",
        "  def age_function(pet, age):\n",
        "      if pet == \"dog\":\n",
        "          if age >= 0 and age <= 3:\n",
        "              print(\"It is a puppy. Take care of their growth by providing proper nutrition and socialization.\")\n",
        "          elif age > 3 and age <= 7:\n",
        "              print(\"It is middle-aged. Ensure proper nutrition, exercise, and regular vet check-ups for a healthy life.\")\n",
        "          elif age > 7 and age <= 12:\n",
        "              print(\"It is an older dog. Provide special attention, balanced diet, and exercise suitable for their age.\")\n",
        "          else:\n",
        "              print(\"Invalid Input! Please enter a valid age for the dog.\")\n",
        "      elif pet == \"cat\":\n",
        "          if age >= 0 and age <= 4:\n",
        "              print(\"It is a kitten. Take care of their growth and playfulness with proper nutrition and interactive toys.\")\n",
        "          elif age > 4 and age <= 8:\n",
        "              print(\"It is middle-aged. Ensure proper nutrition, playtime, and regular vet check-ups for a healthy life.\")\n",
        "          elif age > 8 and age <= 13:\n",
        "              print(\"It is an older cat. Provide comfort, attention, and a balanced diet suitable for their age.\")\n",
        "          else:\n",
        "              print(\"Invalid Input! Please enter a valid age for the cat.\")\n",
        "      elif pet == \"bird\":\n",
        "          if age >= 0 and age <= 1:\n",
        "              print(\"It is a young bird. Take care of their nutrition, provide enough flying space, and engage in regular mental stimulation.\")\n",
        "          elif age > 1 and age <= 3:\n",
        "              print(\"It is middle-aged. Ensure proper nutrition, mental stimulation, and regular vet check-ups.\")\n",
        "          elif age > 3 and age <= 5:\n",
        "              print(\"It is an older bird. Provide comfort, attention, and a suitable environment for their age.\")\n",
        "          else:\n",
        "              print(\"Invalid Input! Please enter a valid age for the bird.\")\n",
        "      else:\n",
        "          print(\"Invalid input! Please choose 'dog', 'cat', or 'bird' for the type of pet.\")\n",
        "  health_function(pet_health)\n",
        "  age_function(pet_choice, pet_age)"
      ]
    },
    {
      "cell_type": "markdown",
      "source": [
        "### Main function to run the pet care assistant"
      ],
      "metadata": {
        "id": "GIJtbG2UrtJM"
      }
    },
    {
      "cell_type": "code",
      "source": [
        "# Main function to run the pet care assistant\n",
        "def pet_care_assistant():\n",
        "  print(\"Welcome to the Pet Care Assistant!\")\n",
        "  pet_choice = get_pet_choice()\n",
        "  pet_age = get_pet_age()\n",
        "  pet_health = get_pet_health()\n",
        "\n",
        "\n",
        "  provide_pet_care_tips(pet_choice, pet_age, pet_health)\n"
      ],
      "metadata": {
        "id": "Sfqbwb0du179"
      },
      "execution_count": null,
      "outputs": []
    },
    {
      "cell_type": "code",
      "source": [
        "# Run the program\n",
        "if __name__ == \"__main__\":\n",
        "    pet_care_assistant()  # Start the pet care assistant"
      ],
      "metadata": {
        "id": "Bm-vnwCvrxy4",
        "outputId": "2c0fbd74-0420-4c4e-8c59-3e01f2d58b7b",
        "colab": {
          "base_uri": "https://localhost:8080/"
        }
      },
      "execution_count": null,
      "outputs": [
        {
          "output_type": "stream",
          "name": "stdout",
          "text": [
            "Welcome to the Pet Care Assistant!\n",
            "What type of pet do you have (dog, cat, or bird)? bird\n",
            "How old is your pet? 3\n",
            "Enter the health condition of your pet (1 for good, 2 for normal, 3 for bad): 2\n",
            "The health of the pet is okay. Ensure proper nutrition with multivitamins and moderate exercise.\n",
            "It is middle-aged. Ensure proper nutrition, mental stimulation, and regular vet check-ups.\n"
          ]
        }
      ]
    },
    {
      "cell_type": "code",
      "source": [],
      "metadata": {
        "id": "OzXt2neDAAjk"
      },
      "execution_count": null,
      "outputs": []
    }
  ]
}