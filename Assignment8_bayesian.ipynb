{
  "nbformat": 4,
  "nbformat_minor": 0,
  "metadata": {
    "colab": {
      "provenance": [],
      "include_colab_link": true
    },
    "kernelspec": {
      "name": "python3",
      "display_name": "Python 3"
    },
    "language_info": {
      "name": "python"
    }
  },
  "cells": [
    {
      "cell_type": "markdown",
      "metadata": {
        "id": "view-in-github",
        "colab_type": "text"
      },
      "source": [
        "<a href=\"https://colab.research.google.com/github/divyansh-ag-03/AAIES/blob/main/Assignment8_bayesian.ipynb\" target=\"_parent\"><img src=\"https://colab.research.google.com/assets/colab-badge.svg\" alt=\"Open In Colab\"/></a>"
      ]
    },
    {
      "cell_type": "markdown",
      "source": [
        "Using Bayesian network, implement a Python program to calculate probability in disease diagnosis.\n",
        "\n",
        "A medical clinic is trying to determine the probability that a patient has a certain disease. The test which is used to diagnose the disease is not always accurate. The clinic knows that the probability of a false positive is 1%, and the probability of a false negative is 5%. The clinic has a patient who has tested positive for the disease.\n",
        "\n",
        "Knowing that disease occurs in a patient 25% times. They want to use Bayesian Theorem to calculate the probability that the patient actually has the disease. The Bayesian network will consist of two nodes: 'D' (for disease) and 'T' (for test result). conditional probability distributions (CPDs) for the nodes will be based on the provided information\n"
      ],
      "metadata": {
        "id": "5r2msEl9py3R"
      }
    },
    {
      "cell_type": "markdown",
      "source": [
        "## The Code"
      ],
      "metadata": {
        "id": "hi0nFuvoppT9"
      }
    },
    {
      "cell_type": "markdown",
      "source": [
        "### Imports"
      ],
      "metadata": {
        "id": "q1ABUPU7L6em"
      }
    },
    {
      "cell_type": "code",
      "source": [
        "# A Python library for probabilistic graphical models.\n",
        "!pip install pgmpy"
      ],
      "metadata": {
        "colab": {
          "base_uri": "https://localhost:8080/"
        },
        "id": "Z9ue7LAviGeu",
        "outputId": "fb0734ca-d752-494d-f0b3-896600245bc0"
      },
      "execution_count": 1,
      "outputs": [
        {
          "output_type": "stream",
          "name": "stdout",
          "text": [
            "Collecting pgmpy\n",
            "  Downloading pgmpy-0.1.24-py3-none-any.whl (2.0 MB)\n",
            "\u001b[2K     \u001b[90m━━━━━━━━━━━━━━━━━━━━━━━━━━━━━━━━━━━━━━━━\u001b[0m \u001b[32m2.0/2.0 MB\u001b[0m \u001b[31m20.0 MB/s\u001b[0m eta \u001b[36m0:00:00\u001b[0m\n",
            "\u001b[?25hRequirement already satisfied: networkx in /usr/local/lib/python3.10/dist-packages (from pgmpy) (3.2)\n",
            "Requirement already satisfied: numpy in /usr/local/lib/python3.10/dist-packages (from pgmpy) (1.23.5)\n",
            "Requirement already satisfied: scipy in /usr/local/lib/python3.10/dist-packages (from pgmpy) (1.11.3)\n",
            "Requirement already satisfied: scikit-learn in /usr/local/lib/python3.10/dist-packages (from pgmpy) (1.2.2)\n",
            "Requirement already satisfied: pandas in /usr/local/lib/python3.10/dist-packages (from pgmpy) (1.5.3)\n",
            "Requirement already satisfied: pyparsing in /usr/local/lib/python3.10/dist-packages (from pgmpy) (3.1.1)\n",
            "Requirement already satisfied: torch in /usr/local/lib/python3.10/dist-packages (from pgmpy) (2.1.0+cu118)\n",
            "Requirement already satisfied: statsmodels in /usr/local/lib/python3.10/dist-packages (from pgmpy) (0.14.0)\n",
            "Requirement already satisfied: tqdm in /usr/local/lib/python3.10/dist-packages (from pgmpy) (4.66.1)\n",
            "Requirement already satisfied: joblib in /usr/local/lib/python3.10/dist-packages (from pgmpy) (1.3.2)\n",
            "Requirement already satisfied: opt-einsum in /usr/local/lib/python3.10/dist-packages (from pgmpy) (3.3.0)\n",
            "Requirement already satisfied: python-dateutil>=2.8.1 in /usr/local/lib/python3.10/dist-packages (from pandas->pgmpy) (2.8.2)\n",
            "Requirement already satisfied: pytz>=2020.1 in /usr/local/lib/python3.10/dist-packages (from pandas->pgmpy) (2023.3.post1)\n",
            "Requirement already satisfied: threadpoolctl>=2.0.0 in /usr/local/lib/python3.10/dist-packages (from scikit-learn->pgmpy) (3.2.0)\n",
            "Requirement already satisfied: patsy>=0.5.2 in /usr/local/lib/python3.10/dist-packages (from statsmodels->pgmpy) (0.5.3)\n",
            "Requirement already satisfied: packaging>=21.3 in /usr/local/lib/python3.10/dist-packages (from statsmodels->pgmpy) (23.2)\n",
            "Requirement already satisfied: filelock in /usr/local/lib/python3.10/dist-packages (from torch->pgmpy) (3.12.4)\n",
            "Requirement already satisfied: typing-extensions in /usr/local/lib/python3.10/dist-packages (from torch->pgmpy) (4.5.0)\n",
            "Requirement already satisfied: sympy in /usr/local/lib/python3.10/dist-packages (from torch->pgmpy) (1.12)\n",
            "Requirement already satisfied: jinja2 in /usr/local/lib/python3.10/dist-packages (from torch->pgmpy) (3.1.2)\n",
            "Requirement already satisfied: fsspec in /usr/local/lib/python3.10/dist-packages (from torch->pgmpy) (2023.6.0)\n",
            "Requirement already satisfied: triton==2.1.0 in /usr/local/lib/python3.10/dist-packages (from torch->pgmpy) (2.1.0)\n",
            "Requirement already satisfied: six in /usr/local/lib/python3.10/dist-packages (from patsy>=0.5.2->statsmodels->pgmpy) (1.16.0)\n",
            "Requirement already satisfied: MarkupSafe>=2.0 in /usr/local/lib/python3.10/dist-packages (from jinja2->torch->pgmpy) (2.1.3)\n",
            "Requirement already satisfied: mpmath>=0.19 in /usr/local/lib/python3.10/dist-packages (from sympy->torch->pgmpy) (1.3.0)\n",
            "Installing collected packages: pgmpy\n",
            "Successfully installed pgmpy-0.1.24\n"
          ]
        }
      ]
    },
    {
      "cell_type": "code",
      "source": [
        "from pgmpy.models import BayesianNetwork\n",
        "from pgmpy.factors.discrete import TabularCPD\n",
        "from pgmpy.inference import VariableElimination"
      ],
      "metadata": {
        "id": "i3TtxZ2SL6en"
      },
      "execution_count": 21,
      "outputs": []
    },
    {
      "cell_type": "markdown",
      "source": [
        "### Bayesian Network Creation using BayesianNetwork from pgmpy\n",
        "### AND\n",
        "### Defining CPDs using Tabular CPDS"
      ],
      "metadata": {
        "id": "EULYS1zCLF6l"
      }
    },
    {
      "cell_type": "code",
      "source": [
        "def create_bayesian_network():\n",
        "    # Create a Bayesian Network\n",
        "    model = BayesianNetwork([('D', 'T')])\n",
        "\n",
        "    # Define conditional probability distributions (CPDs)\n",
        "    # CPD for 'D' (Disease)\n",
        "    cpd_disease = TabularCPD(variable='D', variable_card=2, values=[[0.75], [0.25]])\n",
        "\n",
        "    # CPD for 'T' (Test Result) based on D (Disease)\n",
        "    cpd_test = TabularCPD(variable='T', variable_card=2, values=[[0.95, 0.05], [0.05, 0.95]], evidence=['D'], evidence_card=[2])\n",
        "\n",
        "    # Add CPDs to the model\n",
        "    model.add_cpds(cpd_disease, cpd_test)\n",
        "\n",
        "    # Check if the model is valid\n",
        "    assert model.check_model()\n",
        "\n",
        "    return model"
      ],
      "metadata": {
        "id": "W6DsZ9qZvD-v"
      },
      "execution_count": 25,
      "outputs": []
    },
    {
      "cell_type": "markdown",
      "source": [
        "### Calculating Disease Bayesian Probablity"
      ],
      "metadata": {
        "id": "zXJONO10fCBU"
      }
    },
    {
      "cell_type": "code",
      "source": [
        "def calculate_probability_of_disease(model, test_result):\n",
        "    # Create an inference object\n",
        "    inference = VariableElimination(model)\n",
        "\n",
        "    # Given the test result, calculate the probability of having the disease\n",
        "    result = inference.query(variables=['D'], evidence={'T': test_result})\n",
        "\n",
        "    # Return the calculated probability\n",
        "    probability = result.values[1]  # Probability of Disease=1 (having the disease)\n",
        "    return probability"
      ],
      "metadata": {
        "id": "-BleLeI_fCBb"
      },
      "execution_count": 26,
      "outputs": []
    },
    {
      "cell_type": "markdown",
      "source": [
        "### Main function to solve the problem"
      ],
      "metadata": {
        "id": "TYRZ-f3G6Tpj"
      }
    },
    {
      "cell_type": "code",
      "source": [
        "if __name__ == \"__main__\":\n",
        "    bayesian_network = create_bayesian_network()\n",
        "    test_result = 1  # 1 for positive test result, 0 for negative\n",
        "\n",
        "    probability = calculate_probability_of_disease(bayesian_network, test_result)\n",
        "    print(f\"Probability of having the disease given a positive test result: {probability:.4f}\")"
      ],
      "metadata": {
        "id": "VFUkDQUY6WiX",
        "colab": {
          "base_uri": "https://localhost:8080/"
        },
        "outputId": "bb9f5329-dfd3-42d1-c75b-c3d0a88c6af5"
      },
      "execution_count": 27,
      "outputs": [
        {
          "output_type": "stream",
          "name": "stdout",
          "text": [
            "Probability of having the disease given a positive test result: 0.8636\n"
          ]
        }
      ]
    },
    {
      "cell_type": "code",
      "source": [],
      "metadata": {
        "id": "Tph0YWqaFYLW"
      },
      "execution_count": null,
      "outputs": []
    }
  ]
}